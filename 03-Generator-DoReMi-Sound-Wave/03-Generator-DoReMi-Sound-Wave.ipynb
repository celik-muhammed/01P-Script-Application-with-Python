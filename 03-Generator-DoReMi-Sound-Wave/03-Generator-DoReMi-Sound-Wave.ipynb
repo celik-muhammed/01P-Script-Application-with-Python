{
 "cells": [
  {
   "cell_type": "code",
   "execution_count": 4,
   "metadata": {},
   "outputs": [],
   "source": [
    "# pip install scitools3\n",
    "# pip install numpy"
   ]
  },
  {
   "cell_type": "code",
   "execution_count": 2,
   "metadata": {},
   "outputs": [],
   "source": [
    "import numpy as np\n",
    "import scitools.sound\n",
    "\n",
    "# Generate Note Tones\n",
    "def noteGenerator(frequency=440, length=0.2, amplitude=1, sample_rate=44100):\n",
    "    '''\n",
    "    # Signal Formula -data- f(t) = A*sin(2*π*f*t+ϕ) or f(t) = A*sin(ω*t+ϕ)\n",
    "    # signal basic settings - sound may vary by device type\n",
    "    base_tone_freq = 440    # hertz (Hz) - 0.44kHz (Sound Frequency(Hz)) - Note A4(La4)\n",
    "    base_duration = .2      # (Basic Duration Unit in Seconds) or length = 0.2\n",
    "    sampleRate = 44100      # Samples Per Second Hz - 44.1kHz (Sample Rate)\n",
    "    samples = base_duration*sampleRate  #\n",
    "    \n",
    "    # Produces a t second Audio-File\n",
    "    t = np.linspace(0, time, time*sampleRate)  # timepoints\n",
    "    A = np.iinfo(np.int16).max  # Volume (Amplitude) - the volume measure (max is 32768) or the Peak Value\n",
    "    '''\n",
    "    timepoints = np.linspace(0, length, int(length*sample_rate))\n",
    "    data = amplitude*np.sin(2*np.pi*frequency*timepoints)  # A*sin(2*π*f*t) and .astype(np.float32)\n",
    "    return data\n",
    "\n",
    "notes =   ('F3', 'F#3', 'G3',  'G#3',  'A3', 'A#3', 'B3', 'C4', 'C#4', 'D4', 'D#4', 'E4', 'F4', 'F#4', 'G4',  'G#4',  'A4')\n",
    "notesDo = ('Fa3','Fa#3','Sol3','Sol#3','La3','La#3','Si3','Do4','Do#4','Re4','Re#4','Mi4','Fa4','Fa#4','Sol4','Sol#4','La4')\n",
    "base_freq = 440*(2**(1/12))**-16  # edited for example\n",
    "notes2freq   = {notes[i].casefold(): base_freq*2**(i/12.0) for i in range(len(notes))}\n",
    "notesDo2freq = {notesDo[i].casefold(): base_freq*2**(i/12.0) for i in range(len(notes))}\n",
    "\n",
    "composition_letters = \"\"\"\n",
    "G3-0.4 G3-0.4 A3-0.8 G3-0.8 C4-0.7 B3-1.5 \n",
    "G3-0.4 G3-0.4 A3-0.8 G3-0.8 D4-0.7 C4-1.4 \n",
    "G3-0.4 G3-0.4 G4-0.7 E4-0.7 C4-0.8 D4-0.8 E4-0.8\n",
    "F4-0.4 F4-0.4 E4-0.8 C4-0.8 D4-0.8 C4-1.6 \n",
    "\"\"\"  # Happy Birthday to You - DoReMi-CDE\n",
    "\n",
    "comp_letters_list = composition_letters.split()\n",
    "tones = []\n",
    "for letter in comp_letters_list:\n",
    "    note, duration = letter.split('-')\n",
    "    if note.title() in notes:\n",
    "        s = noteGenerator(notes2freq[note.casefold()], float(duration))\n",
    "        tones.append(s)\n",
    "    elif note.title() in notesDo:\n",
    "        s = noteGenerator(notesDo2freq[note.casefold()], float(duration))\n",
    "        tones.append(s)\n",
    "    else:\n",
    "        print('Someting is wrong! Check and Try Again.')\n",
    "        pass\n",
    "\n",
    "tones_wave = (np.concatenate(tones)*(np.iinfo(np.int16).max))  # Amplitude run 1 time\n",
    "\n",
    "# A 2D array where the left and right tones are contained in their respective rows\n",
    "tones_wave_stereo = np.vstack((tones_wave, tones_wave))\n",
    "\n",
    "# Reshape 2D array so that the left and right tones are contained in their respective columns\n",
    "tones_wave_stereo = tones_wave_stereo.transpose()\n",
    "\n",
    "scitools.sound.write(data=tones_wave_stereo, filename=\"HapyBirthday-DoReMi-MuCe.wav\", sample_rate=44100)"
   ]
  }
 ],
 "metadata": {
  "interpreter": {
   "hash": "229cdfb8eedfa4964725b7eb0da8d7a63b25d97a6ab808f09bd6b506844c0629"
  },
  "kernelspec": {
   "display_name": "Python 3.10.4 64-bit",
   "language": "python",
   "name": "python3"
  },
  "language_info": {
   "codemirror_mode": {
    "name": "ipython",
    "version": 3
   },
   "file_extension": ".py",
   "mimetype": "text/x-python",
   "name": "python",
   "nbconvert_exporter": "python",
   "pygments_lexer": "ipython3",
   "version": "3.10.4"
  },
  "orig_nbformat": 4
 },
 "nbformat": 4,
 "nbformat_minor": 2
}
